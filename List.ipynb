{
 "cells": [
  {
   "cell_type": "markdown",
   "id": "4b5334b6-c765-4818-8899-01bdcdd88dd6",
   "metadata": {},
   "source": [
    "# List in Python :"
   ]
  },
  {
   "cell_type": "code",
   "execution_count": 82,
   "id": "479e85cd-1bb9-4fe7-a85e-b5e4ca69b770",
   "metadata": {},
   "outputs": [],
   "source": [
    "# List is homogeneous and heterogeneous data type.\n",
    "# List is denoted by [ , ]\n",
    "# Each element separated by commas.\n",
    "# List is predefined function.\n",
    "# There are two types : 1. Positive Index  2. Negative Index\n",
    "# 1. Positive Index : Its Starts from left to right.\n",
    "# 2. Negative Index : Its starts from right to left."
   ]
  },
  {
   "cell_type": "code",
   "execution_count": 94,
   "id": "aab0c559-9369-4897-a654-a377d512e76f",
   "metadata": {},
   "outputs": [
    {
     "data": {
      "text/plain": [
       "list[1, 2, 3]"
      ]
     },
     "execution_count": 94,
     "metadata": {},
     "output_type": "execute_result"
    }
   ],
   "source": [
    "# For example,\n",
    "\n",
    "l1 = list[1,2,3]\n",
    "l1"
   ]
  },
  {
   "cell_type": "code",
   "execution_count": 90,
   "id": "eff500a8-abdc-42b0-a064-17c4e97cc604",
   "metadata": {},
   "outputs": [
    {
     "data": {
      "text/plain": [
       "[]"
      ]
     },
     "execution_count": 90,
     "metadata": {},
     "output_type": "execute_result"
    }
   ],
   "source": [
    "# Empty list\n",
    "\n",
    "l2 = []\n",
    "l2"
   ]
  },
  {
   "cell_type": "code",
   "execution_count": 96,
   "id": "54c10ea5-c13e-491e-9c38-402fdf6d7ef7",
   "metadata": {},
   "outputs": [
    {
     "data": {
      "text/plain": [
       "[1, 2, 3, 4, 5]"
      ]
     },
     "execution_count": 96,
     "metadata": {},
     "output_type": "execute_result"
    }
   ],
   "source": [
    "# Homogeneous list\n",
    "\n",
    "list = [1,2,3,4,5]\n",
    "list"
   ]
  },
  {
   "cell_type": "code",
   "execution_count": 98,
   "id": "98332682-4f30-467a-8aa7-ae512f14588e",
   "metadata": {},
   "outputs": [
    {
     "data": {
      "text/plain": [
       "[1, 'Priti', 90.87]"
      ]
     },
     "execution_count": 98,
     "metadata": {},
     "output_type": "execute_result"
    }
   ],
   "source": [
    "# Heterogeneous list\n",
    "\n",
    "list1 = [1,\"Priti\",90.87]\n",
    "list1"
   ]
  },
  {
   "cell_type": "code",
   "execution_count": 104,
   "id": "9a00f38b-1743-4a45-9b41-18fdcbba3a28",
   "metadata": {},
   "outputs": [
    {
     "data": {
      "text/plain": [
       "list"
      ]
     },
     "execution_count": 104,
     "metadata": {},
     "output_type": "execute_result"
    }
   ],
   "source": [
    "type(list1)"
   ]
  },
  {
   "cell_type": "code",
   "execution_count": 106,
   "id": "a5a65804-7751-4b1b-bdd3-37f52baf72a2",
   "metadata": {},
   "outputs": [
    {
     "data": {
      "text/plain": [
       "[1, 2, 3, 4, 5, 1, 'Priti', 90.87]"
      ]
     },
     "execution_count": 106,
     "metadata": {},
     "output_type": "execute_result"
    }
   ],
   "source": [
    "list + list1"
   ]
  },
  {
   "cell_type": "code",
   "execution_count": 108,
   "id": "bba66937-8eb1-4259-950c-b27e46970d12",
   "metadata": {},
   "outputs": [
    {
     "name": "stdout",
     "output_type": "stream",
     "text": [
      "[10, 20, 30, 40, 50]\n"
     ]
    }
   ],
   "source": [
    "# List Methods\n",
    "    # append(x)\t\n",
    "        # Adds an item x at the end of the list.\n",
    "# For Example ,\n",
    "\n",
    "list = [10, 20, 30, 40]\n",
    "list.append(50)\n",
    "print(list)"
   ]
  },
  {
   "cell_type": "code",
   "execution_count": 110,
   "id": "3f6133b6-5860-45ff-ab37-814901097555",
   "metadata": {},
   "outputs": [
    {
     "data": {
      "text/plain": [
       "[10, 20, 30, 40, 50, 1]"
      ]
     },
     "execution_count": 110,
     "metadata": {},
     "output_type": "execute_result"
    }
   ],
   "source": [
    "# extend(iterable)\t\n",
    "    # Adds all elements of an iterable (like another list) to the end of the list.\n",
    "# for example , \n",
    "\n",
    "list.extend([1])\n",
    "list"
   ]
  },
  {
   "cell_type": "code",
   "execution_count": 112,
   "id": "5606868c-a33e-4a47-90f3-cee96ce78190",
   "metadata": {},
   "outputs": [
    {
     "data": {
      "text/plain": [
       "[10, 20, 30, 40, 50, 500, 1]"
      ]
     },
     "execution_count": 112,
     "metadata": {},
     "output_type": "execute_result"
    }
   ],
   "source": [
    "# insert(i, x)\t\n",
    "    # Inserts an item x at position i.\n",
    "# for example ,\n",
    "\n",
    "list.insert(5 , 500)\n",
    "list"
   ]
  },
  {
   "cell_type": "code",
   "execution_count": 114,
   "id": "ccc40769-784d-401a-9a29-b36b253c9c1d",
   "metadata": {},
   "outputs": [
    {
     "data": {
      "text/plain": [
       "[10, 20, 30, 50, 500, 1]"
      ]
     },
     "execution_count": 114,
     "metadata": {},
     "output_type": "execute_result"
    }
   ],
   "source": [
    "# remove\t\n",
    "    # Removes the first occurrence of item x.\n",
    "# for example ,\n",
    "list.remove(40)\n",
    "list"
   ]
  },
  {
   "cell_type": "code",
   "execution_count": 116,
   "id": "deb61918-860a-419b-b0a2-f282b286752b",
   "metadata": {},
   "outputs": [
    {
     "data": {
      "text/plain": [
       "[10, 20, 30, 50, 1]"
      ]
     },
     "execution_count": 116,
     "metadata": {},
     "output_type": "execute_result"
    }
   ],
   "source": [
    "# pop([i])\t\n",
    "    # Removes and returns the item at index i (last item if i not given).\n",
    "# for example ,\n",
    "list.pop(4)\n",
    "list"
   ]
  },
  {
   "cell_type": "code",
   "execution_count": 118,
   "id": "33e0f251-1944-46ba-ae92-6626bbcec8fc",
   "metadata": {},
   "outputs": [
    {
     "data": {
      "text/plain": [
       "[1, 50, 30, 20, 10]"
      ]
     },
     "execution_count": 118,
     "metadata": {},
     "output_type": "execute_result"
    }
   ],
   "source": [
    "# reverse()\t\n",
    "    # Reverses the list in place.\n",
    "# for example , \n",
    "list.reverse()\n",
    "list"
   ]
  },
  {
   "cell_type": "code",
   "execution_count": 120,
   "id": "92bca858-ca0f-4b81-9ef2-28d0d3056979",
   "metadata": {},
   "outputs": [
    {
     "data": {
      "text/plain": [
       "[]"
      ]
     },
     "execution_count": 120,
     "metadata": {},
     "output_type": "execute_result"
    }
   ],
   "source": [
    "# clear()\t\n",
    "    # Removes all items from the list (makes it empty).\n",
    "# for example , \n",
    "list.clear()\n",
    "list"
   ]
  },
  {
   "cell_type": "code",
   "execution_count": null,
   "id": "8f8aed64-1829-4dcc-86f9-371f62dea7b6",
   "metadata": {},
   "outputs": [],
   "source": []
  }
 ],
 "metadata": {
  "kernelspec": {
   "display_name": "Python 3 (ipykernel)",
   "language": "python",
   "name": "python3"
  },
  "language_info": {
   "codemirror_mode": {
    "name": "ipython",
    "version": 3
   },
   "file_extension": ".py",
   "mimetype": "text/x-python",
   "name": "python",
   "nbconvert_exporter": "python",
   "pygments_lexer": "ipython3",
   "version": "3.12.4"
  }
 },
 "nbformat": 4,
 "nbformat_minor": 5
}
